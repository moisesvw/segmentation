{
 "cells": [
  {
   "cell_type": "markdown",
   "metadata": {},
   "source": [
    "#### Organazing files for generate predictions\n",
    "\n",
    "Inside the folde `test_video_list_and_name_mapping` a `test_masks` subfolder is generating that will contain the predictions of each frame per camera. for every time and camera will be a folder and a text file; one contain mask corresponding to that frame and text file contain relavite path to the mask ans scores\n",
    "\n",
    "```\n",
    "171206_034157032_Camera_5\n",
    "171206_034157032_Camera_5_instanceIds.txt\n",
    "```"
   ]
  },
  {
   "cell_type": "code",
   "execution_count": 2,
   "metadata": {},
   "outputs": [],
   "source": [
    "import glob"
   ]
  },
  {
   "cell_type": "code",
   "execution_count": 5,
   "metadata": {},
   "outputs": [],
   "source": []
  },
  {
   "cell_type": "code",
   "execution_count": 181,
   "metadata": {},
   "outputs": [],
   "source": [
    "mds = glob.glob(\"../data/test/list_test_mapping/*.txt\")\n",
    "results = pd.read_csv(\"../result.csv\")\n",
    "test_r =  pd.read_csv(\"../data/test_results.csv\")\n",
    "masks = glob.glob(\"./test_masks/*.jpg\")\n",
    "\n",
    "my_result = pd.read_csv(\"../my_csv.csv\")\n",
    "images_ids = results.ImageId.unique().tolist()"
   ]
  },
  {
   "cell_type": "code",
   "execution_count": 87,
   "metadata": {},
   "outputs": [],
   "source": [
    "ss=pd.read_csv(mds[8], sep='\\t', header=None)"
   ]
  },
  {
   "cell_type": "code",
   "execution_count": 88,
   "metadata": {},
   "outputs": [
    {
     "data": {
      "text/html": [
       "<div>\n",
       "<style scoped>\n",
       "    .dataframe tbody tr th:only-of-type {\n",
       "        vertical-align: middle;\n",
       "    }\n",
       "\n",
       "    .dataframe tbody tr th {\n",
       "        vertical-align: top;\n",
       "    }\n",
       "\n",
       "    .dataframe thead th {\n",
       "        text-align: right;\n",
       "    }\n",
       "</style>\n",
       "<table border=\"1\" class=\"dataframe\">\n",
       "  <thead>\n",
       "    <tr style=\"text-align: right;\">\n",
       "      <th></th>\n",
       "      <th>0</th>\n",
       "      <th>1</th>\n",
       "    </tr>\n",
       "  </thead>\n",
       "  <tbody>\n",
       "    <tr>\n",
       "      <th>0</th>\n",
       "      <td>5c90ef0b878a1e5a3e0d57a8b08bd066</td>\n",
       "      <td>road02_ins\\ColorImage\\Record007\\Camera 5\\17092...</td>\n",
       "    </tr>\n",
       "    <tr>\n",
       "      <th>1</th>\n",
       "      <td>7912a5160c1fbebc3dfcfd88be43b658</td>\n",
       "      <td>road02_ins\\ColorImage\\Record007\\Camera 5\\17092...</td>\n",
       "    </tr>\n",
       "    <tr>\n",
       "      <th>2</th>\n",
       "      <td>99d5dc333e340680574abe8c40f3392d</td>\n",
       "      <td>road02_ins\\ColorImage\\Record007\\Camera 5\\17092...</td>\n",
       "    </tr>\n",
       "    <tr>\n",
       "      <th>3</th>\n",
       "      <td>974be7bb825c6f4b8c38c3b8ca6d0f29</td>\n",
       "      <td>road02_ins\\ColorImage\\Record007\\Camera 5\\17092...</td>\n",
       "    </tr>\n",
       "    <tr>\n",
       "      <th>4</th>\n",
       "      <td>b553b5d1187925cdfc1101e61b8aeade</td>\n",
       "      <td>road02_ins\\ColorImage\\Record007\\Camera 5\\17092...</td>\n",
       "    </tr>\n",
       "  </tbody>\n",
       "</table>\n",
       "</div>"
      ],
      "text/plain": [
       "                                  0  \\\n",
       "0  5c90ef0b878a1e5a3e0d57a8b08bd066   \n",
       "1  7912a5160c1fbebc3dfcfd88be43b658   \n",
       "2  99d5dc333e340680574abe8c40f3392d   \n",
       "3  974be7bb825c6f4b8c38c3b8ca6d0f29   \n",
       "4  b553b5d1187925cdfc1101e61b8aeade   \n",
       "\n",
       "                                                   1  \n",
       "0  road02_ins\\ColorImage\\Record007\\Camera 5\\17092...  \n",
       "1  road02_ins\\ColorImage\\Record007\\Camera 5\\17092...  \n",
       "2  road02_ins\\ColorImage\\Record007\\Camera 5\\17092...  \n",
       "3  road02_ins\\ColorImage\\Record007\\Camera 5\\17092...  \n",
       "4  road02_ins\\ColorImage\\Record007\\Camera 5\\17092...  "
      ]
     },
     "execution_count": 88,
     "metadata": {},
     "output_type": "execute_result"
    }
   ],
   "source": [
    "ss.head()"
   ]
  },
  {
   "cell_type": "markdown",
   "metadata": {},
   "source": [
    " This organize masks instances into folders per frame"
   ]
  },
  {
   "cell_type": "code",
   "execution_count": 89,
   "metadata": {},
   "outputs": [
    {
     "name": "stdout",
     "output_type": "stream",
     "text": [
      "Warning already exists:  170908_085500854_Camera_6\n",
      "Warning already exists:  171206_030116480_Camera_6\n",
      "Warning already exists:  170908_072530085_Camera_6\n",
      "Warning already exists:  171206_033959261_Camera_5\n",
      "Warning already exists:  171206_033007333_Camera_5\n",
      "Warning already exists:  170927_063815166_Camera_6\n",
      "Warning already exists:  171206_033811429_Camera_6\n",
      "Warning already exists:  171206_032801900_Camera_5\n",
      "Warning already exists:  170927_064544406_Camera_5\n",
      "Warning already exists:  170908_064917249_Camera_5\n",
      "Warning already exists:  170908_082410385_Camera_6\n",
      "Warning already exists:  170908_061426186_Camera_5\n"
     ]
    }
   ],
   "source": [
    "for i in range(len(mds)):\n",
    "    frames = pd.read_csv(mds[i], sep='\\t', header=None)\n",
    "    for j in range(frames.shape[0]):\n",
    "        image_id = frames.iloc[j][0]\n",
    "        path = frames.iloc[j][1].split(\"\\\\\")[-1].split(\".\")[-2]\n",
    "        preds = glob.glob(\"./test_masks/\"+image_id+\"*jpg\")\n",
    "        if os.path.exists(\"./test_masks/\"+path):\n",
    "            print(\"Warning already exists: \", path)\n",
    "\n",
    "        else:\n",
    "            os.makedirs(\"./test_masks/\"+path)\n",
    "        for p in preds:\n",
    "            shutil.move(p, \"./test_masks/\"+path+\"/\"+p.split(\"/\")[-1] )\n",
    "\n",
    "\n",
    "                                                "
   ]
  },
  {
   "cell_type": "markdown",
   "metadata": {},
   "source": [
    "The cells below generate instances files containing relative path and scores for every mask\n",
    "of given instance"
   ]
  },
  {
   "cell_type": "code",
   "execution_count": 110,
   "metadata": {},
   "outputs": [],
   "source": [
    "dirs=next(os.walk(\"./test_masks/\"))[1]"
   ]
  },
  {
   "cell_type": "code",
   "execution_count": 166,
   "metadata": {},
   "outputs": [
    {
     "name": "stdout",
     "output_type": "stream",
     "text": [
      "81\n",
      "[0, 0, 0, 0, 0, 0, 0, 0, 0, 0, 0, 0, 0, 0, 0, 0, 0, 0, 0, 0, 0, 0, 0, 0, 0, 0, 0, 0, 0, 0, 0, 0, 0, 0, 0, 0, 0, 0, 0, 0, 0, 0, 0, 0, 0, 0, 0, 0, 0, 0, 0, 0, 0, 0, 0, 0, 0, 0, 0, 0, 0, 0, 0, 0, 0, 0, 0, 0, 0, 0, 0, 0, 0, 0, 0, 0, 0, 0, 0, 0, 0]\n"
     ]
    }
   ],
   "source": [
    "groups = [ sorted(glob.glob(\"./test_masks/\"+dir_+\"/*.jpg\")) for dir_ in dirs  ] \n",
    "counts = [len(x) for x in groups if len(x) == 0]\n",
    "print( len(counts) )\n",
    "print(counts)\n"
   ]
  },
  {
   "cell_type": "code",
   "execution_count": 174,
   "metadata": {},
   "outputs": [],
   "source": [
    "results = pd.read_csv(\"../data/new_results.csv\")"
   ]
  },
  {
   "cell_type": "code",
   "execution_count": 277,
   "metadata": {},
   "outputs": [],
   "source": [
    "def process_group(group_files, results):\n",
    "\n",
    "    mid = group_files[0].split(\"/\")[-1].split(\".\")[-2].split(\"_\")[-2]\n",
    "    image_set = group_files[0].split(\"/\")[2]\n",
    "\n",
    "    rr = results[results[\"ImageId\"]== mid].sort_values(by=['mask_file'])\n",
    "    r_index = rr.index\n",
    "    with open('./test_masks/'+image_set+\"_instanceIds.txt\", 'a') as f:\n",
    "        for  i in range( len(group_files) ):\n",
    "            im = cv2.imread( group_files[i], cv2.IMREAD_UNCHANGED )\n",
    "            pixel_count = (im > 0).sum()\n",
    "            rel_path = group_files[i].replace(\"./test_masks/\", \"\")\n",
    "\n",
    "            f.write( \"{} {} {}\\n\".format(rel_path, rr['LabelId'][r_index[i]], rr['Confidence'][r_index[i]]) )\n",
    "        f.close()"
   ]
  },
  {
   "cell_type": "code",
   "execution_count": 278,
   "metadata": {},
   "outputs": [],
   "source": [
    "process_group(groups[0], my_result)\n"
   ]
  },
  {
   "cell_type": "code",
   "execution_count": 279,
   "metadata": {},
   "outputs": [],
   "source": [
    "pool = Pool(8)\n",
    "jobs = []\n",
    "for i in range(len(groups)):\n",
    "    job = pool.apply_async(process_group, (groups[i], my_result) )\n",
    "    jobs.append(job)\n",
    "\n"
   ]
  },
  {
   "cell_type": "code",
   "execution_count": null,
   "metadata": {},
   "outputs": [],
   "source": []
  }
 ],
 "metadata": {
  "kernelspec": {
   "display_name": "Python 3",
   "language": "python",
   "name": "python3"
  },
  "language_info": {
   "codemirror_mode": {
    "name": "ipython",
    "version": 3
   },
   "file_extension": ".py",
   "mimetype": "text/x-python",
   "name": "python",
   "nbconvert_exporter": "python",
   "pygments_lexer": "ipython3",
   "version": "3.6.4"
  }
 },
 "nbformat": 4,
 "nbformat_minor": 2
}
